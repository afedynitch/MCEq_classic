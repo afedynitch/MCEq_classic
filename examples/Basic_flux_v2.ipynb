{
 "cells": [
  {
   "cell_type": "markdown",
   "metadata": {},
   "source": [
    "Simplest possible example\n",
    "--------------------------\n",
    "\n",
    "Compute the fluxes of atmospheric leptons for a standard set of models at a fixed zenith angle."
   ]
  },
  {
   "cell_type": "code",
   "execution_count": 1,
   "metadata": {
    "collapsed": true
   },
   "outputs": [],
   "source": [
    "#basic imports and jupyter setup\n",
    "%load_ext autoreload\n",
    "%matplotlib inline\n",
    "%autoreload 2\n",
    "import os\n",
    "import matplotlib.pyplot as plt\n",
    "import numpy as np\n",
    "os.chdir('..')\n",
    "\n",
    "#import solver related modules\n",
    "from MCEq.core import MCEqRun\n",
    "from mceq_config import config\n",
    "#import primary model choices\n",
    "import crflux.models as pm"
   ]
  },
  {
   "cell_type": "markdown",
   "metadata": {},
   "source": [
    "Create an instance of an MCEqRun class. Most of its areguments are contained in the `config` dictionary from the `mceq_config` module. Look into or edit `mceq_config.py`.\n",
    "\n",
    "If the initialization succeeds it will print out some information according to the debug level. "
   ]
  },
  {
   "cell_type": "code",
   "execution_count": 2,
   "metadata": {},
   "outputs": [
    {
     "name": "stdout",
     "output_type": "stream",
     "text": [
      "MCEqRun::set_interaction_model(): SIBYLL23C\n"
     ]
    },
    {
     "name": "stderr",
     "output_type": "stream",
     "text": [
      "MCEq/particlemanager.py:575: RuntimeWarning: divide by zero encountered in divide\n",
      "  threshold = ldec / lint\n",
      "MCEq/particlemanager.py:591: RuntimeWarning: divide by zero encountered in divide\n",
      "  self.mix_idx = np.where(ldec / lint > cross_over)[0][0]\n",
      "MCEq/particlemanager.py:369: RuntimeWarning: invalid value encountered in multiply\n",
      "  self.cs[self._energy_grid.c < config[\"baryon_stopping\"]] *= np.inf\n",
      "MCEq/particlemanager.py:567: RuntimeWarning: invalid value encountered in greater\n",
      "  elif np.any(inv_intlen > 0.):\n"
     ]
    },
    {
     "name": "stdout",
     "output_type": "stream",
     "text": [
      "ParticleManager::_init_default_tracking(): Initializing default tracking categories (pi, K, mu)\n"
     ]
    },
    {
     "name": "stderr",
     "output_type": "stream",
     "text": [
      "MCEq/core.py:933: RuntimeWarning: invalid value encountered in multiply\n",
      "  self.C_blocks[idx] *= parent.inverse_interaction_length()\n"
     ]
    },
    {
     "name": "stdout",
     "output_type": "stream",
     "text": [
      "MCEqRun::set_density_model(): Setting density profile to CORSIKA ('BK_USStd', None)\n",
      "MCEqRun::set_primary_model(): HillasGaisser2012 H3a\n"
     ]
    }
   ],
   "source": [
    "mceq_run = MCEqRun(\n",
    "#provide the string of the interaction model\n",
    "interaction_model='SIBYLL2.3c',\n",
    "#primary cosmic ray flux model\n",
    "primary_model = (pm.HillasGaisser2012, \"H3a\"),\n",
    "# Zenith angle in degrees. 0=vertical, 90=horizontal\n",
    "theta_deg=0.0,\n",
    "#expand the rest of the options from mceq_config.py\n",
    "**config\n",
    ")"
   ]
  },
  {
   "cell_type": "markdown",
   "metadata": {},
   "source": [
    "__________\n",
    "\n",
    "If everything succeeds than the last message should be something like\n",
    "\n",
    "`MCEqRun::set_primary_model():  HillasGaisser2012 H3a`.\n",
    "\n",
    "Define variables and angles\n",
    "-------------------------"
   ]
  },
  {
   "cell_type": "code",
   "execution_count": 3,
   "metadata": {
    "collapsed": true
   },
   "outputs": [],
   "source": [
    "#Power of energy to scale the flux (the results will be returned as E**mag * flux)\n",
    "mag = 3\n",
    "\n",
    "#obtain energy grid (fixed) of the solution for the x-axis of the plots\n",
    "e_grid = mceq_run.e_grid\n",
    "\n",
    "#Dictionary for results\n",
    "flux = {}\n",
    "\n",
    "#Define a zenith angle, counted positively from vertical direction. Theta = 0. means vertical, theta = 90. horizontal\n",
    "theta = 60."
   ]
  },
  {
   "cell_type": "markdown",
   "metadata": {},
   "source": [
    "Calculate average flux\n",
    "---------------------"
   ]
  },
  {
   "cell_type": "code",
   "execution_count": 4,
   "metadata": {},
   "outputs": [
    {
     "ename": "KeyboardInterrupt",
     "evalue": "",
     "output_type": "error",
     "traceback": [
      "\u001b[0;31m---------------------------------------------------------------------------\u001b[0m",
      "\u001b[0;31mKeyboardInterrupt\u001b[0m                         Traceback (most recent call last)",
      "\u001b[0;32m<ipython-input-4-3f25c1cab045>\u001b[0m in \u001b[0;36m<module>\u001b[0;34m()\u001b[0m\n\u001b[1;32m      2\u001b[0m \u001b[0mmceq_run\u001b[0m\u001b[0;34m.\u001b[0m\u001b[0mset_theta_deg\u001b[0m\u001b[0;34m(\u001b[0m\u001b[0mtheta\u001b[0m\u001b[0;34m)\u001b[0m\u001b[0;34m\u001b[0m\u001b[0m\n\u001b[1;32m      3\u001b[0m \u001b[0;31m#Run the solver\u001b[0m\u001b[0;34m\u001b[0m\u001b[0;34m\u001b[0m\u001b[0m\n\u001b[0;32m----> 4\u001b[0;31m \u001b[0mmceq_run\u001b[0m\u001b[0;34m.\u001b[0m\u001b[0msolve\u001b[0m\u001b[0;34m(\u001b[0m\u001b[0;34m)\u001b[0m\u001b[0;34m\u001b[0m\u001b[0m\n\u001b[0m",
      "\u001b[0;32m/home/users/afedynitch/devel/git/MCEq/MCEq/core.pyc\u001b[0m in \u001b[0;36msolve\u001b[0;34m(self, int_grid, grid_var, **kwargs)\u001b[0m\n\u001b[1;32m    656\u001b[0m \u001b[0;34m\u001b[0m\u001b[0m\n\u001b[1;32m    657\u001b[0m         \u001b[0;31m# Calculate integration path if not yet happened\u001b[0m\u001b[0;34m\u001b[0m\u001b[0;34m\u001b[0m\u001b[0m\n\u001b[0;32m--> 658\u001b[0;31m         \u001b[0mself\u001b[0m\u001b[0;34m.\u001b[0m\u001b[0m_calculate_integration_path\u001b[0m\u001b[0;34m(\u001b[0m\u001b[0mint_grid\u001b[0m\u001b[0;34m,\u001b[0m \u001b[0mgrid_var\u001b[0m\u001b[0;34m)\u001b[0m\u001b[0;34m\u001b[0m\u001b[0m\n\u001b[0m\u001b[1;32m    659\u001b[0m \u001b[0;34m\u001b[0m\u001b[0m\n\u001b[1;32m    660\u001b[0m         \u001b[0mphi0\u001b[0m \u001b[0;34m=\u001b[0m \u001b[0mnp\u001b[0m\u001b[0;34m.\u001b[0m\u001b[0mcopy\u001b[0m\u001b[0;34m(\u001b[0m\u001b[0mself\u001b[0m\u001b[0;34m.\u001b[0m\u001b[0m_phi0\u001b[0m\u001b[0;34m)\u001b[0m\u001b[0;34m\u001b[0m\u001b[0m\n",
      "\u001b[0;32m/home/users/afedynitch/devel/git/MCEq/MCEq/core.pyc\u001b[0m in \u001b[0;36m_calculate_integration_path\u001b[0;34m(self, int_grid, grid_var, force)\u001b[0m\n\u001b[1;32m    738\u001b[0m         \u001b[0;32mwhile\u001b[0m \u001b[0mX\u001b[0m \u001b[0;34m<\u001b[0m \u001b[0mmax_X\u001b[0m\u001b[0;34m:\u001b[0m\u001b[0;34m\u001b[0m\u001b[0m\n\u001b[1;32m    739\u001b[0m             \u001b[0mdX\u001b[0m \u001b[0;34m=\u001b[0m \u001b[0mmin\u001b[0m\u001b[0;34m(\u001b[0m\u001b[0mdelta_X\u001b[0m\u001b[0;34m(\u001b[0m\u001b[0mX\u001b[0m\u001b[0;34m)\u001b[0m\u001b[0;34m,\u001b[0m \u001b[0mdXmax\u001b[0m\u001b[0;34m)\u001b[0m\u001b[0;34m\u001b[0m\u001b[0m\n\u001b[0;32m--> 740\u001b[0;31m             if (np.any(int_grid) and (grid_step < len(int_grid))\n\u001b[0m\u001b[1;32m    741\u001b[0m                     and (X + dX >= int_grid[grid_step])):\n\u001b[1;32m    742\u001b[0m                 \u001b[0mdX\u001b[0m \u001b[0;34m=\u001b[0m \u001b[0mint_grid\u001b[0m\u001b[0;34m[\u001b[0m\u001b[0mgrid_step\u001b[0m\u001b[0;34m]\u001b[0m \u001b[0;34m-\u001b[0m \u001b[0mX\u001b[0m\u001b[0;34m\u001b[0m\u001b[0m\n",
      "\u001b[0;32m/home/users/afedynitch/anaconda2/lib/python2.7/site-packages/numpy/core/fromnumeric.pyc\u001b[0m in \u001b[0;36many\u001b[0;34m(a, axis, out, keepdims)\u001b[0m\n\u001b[1;32m   2162\u001b[0m \u001b[0;34m\u001b[0m\u001b[0m\n\u001b[1;32m   2163\u001b[0m     \"\"\"\n\u001b[0;32m-> 2164\u001b[0;31m     \u001b[0;32mreturn\u001b[0m \u001b[0m_wrapreduction\u001b[0m\u001b[0;34m(\u001b[0m\u001b[0ma\u001b[0m\u001b[0;34m,\u001b[0m \u001b[0mnp\u001b[0m\u001b[0;34m.\u001b[0m\u001b[0mlogical_or\u001b[0m\u001b[0;34m,\u001b[0m \u001b[0;34m'any'\u001b[0m\u001b[0;34m,\u001b[0m \u001b[0maxis\u001b[0m\u001b[0;34m,\u001b[0m \u001b[0mNone\u001b[0m\u001b[0;34m,\u001b[0m \u001b[0mout\u001b[0m\u001b[0;34m,\u001b[0m \u001b[0mkeepdims\u001b[0m\u001b[0;34m=\u001b[0m\u001b[0mkeepdims\u001b[0m\u001b[0;34m)\u001b[0m\u001b[0;34m\u001b[0m\u001b[0m\n\u001b[0m\u001b[1;32m   2165\u001b[0m \u001b[0;34m\u001b[0m\u001b[0m\n\u001b[1;32m   2166\u001b[0m \u001b[0;34m\u001b[0m\u001b[0m\n",
      "\u001b[0;32m/home/users/afedynitch/anaconda2/lib/python2.7/site-packages/numpy/core/fromnumeric.pyc\u001b[0m in \u001b[0;36m_wrapreduction\u001b[0;34m(obj, ufunc, method, axis, dtype, out, **kwargs)\u001b[0m\n\u001b[1;32m     84\u001b[0m                 \u001b[0;32mreturn\u001b[0m \u001b[0mreduction\u001b[0m\u001b[0;34m(\u001b[0m\u001b[0maxis\u001b[0m\u001b[0;34m=\u001b[0m\u001b[0maxis\u001b[0m\u001b[0;34m,\u001b[0m \u001b[0mout\u001b[0m\u001b[0;34m=\u001b[0m\u001b[0mout\u001b[0m\u001b[0;34m,\u001b[0m \u001b[0;34m**\u001b[0m\u001b[0mpasskwargs\u001b[0m\u001b[0;34m)\u001b[0m\u001b[0;34m\u001b[0m\u001b[0m\n\u001b[1;32m     85\u001b[0m \u001b[0;34m\u001b[0m\u001b[0m\n\u001b[0;32m---> 86\u001b[0;31m     \u001b[0;32mreturn\u001b[0m \u001b[0mufunc\u001b[0m\u001b[0;34m.\u001b[0m\u001b[0mreduce\u001b[0m\u001b[0;34m(\u001b[0m\u001b[0mobj\u001b[0m\u001b[0;34m,\u001b[0m \u001b[0maxis\u001b[0m\u001b[0;34m,\u001b[0m \u001b[0mdtype\u001b[0m\u001b[0;34m,\u001b[0m \u001b[0mout\u001b[0m\u001b[0;34m,\u001b[0m \u001b[0;34m**\u001b[0m\u001b[0mpasskwargs\u001b[0m\u001b[0;34m)\u001b[0m\u001b[0;34m\u001b[0m\u001b[0m\n\u001b[0m\u001b[1;32m     87\u001b[0m \u001b[0;34m\u001b[0m\u001b[0m\n\u001b[1;32m     88\u001b[0m \u001b[0;34m\u001b[0m\u001b[0m\n",
      "\u001b[0;31mKeyboardInterrupt\u001b[0m: "
     ]
    }
   ],
   "source": [
    "#Set the zenith angle\n",
    "mceq_run.set_theta_deg(theta)\n",
    "#Run the solver\n",
    "mceq_run.solve()"
   ]
  },
  {
   "cell_type": "markdown",
   "metadata": {},
   "source": [
    "Obtain solution at the surface\n",
    "-------------------------------\n",
    "\n",
    "The fluxes of the particle (e.g., $\\mu^+$) and the anti-particle ($\\mu^-$) are summed in this example."
   ]
  },
  {
   "cell_type": "code",
   "execution_count": null,
   "metadata": {
    "collapsed": true
   },
   "outputs": [],
   "source": [
    "#_conv means conventional (mostly pions and kaons)\n",
    "mu_conv = (mceq_run.get_solution('conv_mu+', mag)\n",
    "           + mceq_run.get_solution('conv_mu-', mag))\n",
    "\n",
    "# _pr means prompt (the mother of the muon had a critical energy\n",
    "# higher or equal to that of a D meson. Includes all charm and direct resonance\n",
    "# contribution)\n",
    "mu_pr = (mceq_run.get_solution('pr_mu+', mag)\n",
    "         + mceq_run.get_solution('pr_mu-', mag))\n",
    "\n",
    "# total means conventional + prompt\n",
    "mu_total = (mceq_run.get_solution('total_mu+', mag)\n",
    "            + mceq_run.get_solution('total_mu-', mag))\n",
    "\n",
    "# Muon charge ratio\n",
    "mu_charge = (mceq_run.get_solution('total_mu+', mag)\n",
    "            / mceq_run.get_solution('total_mu-', mag))\n",
    "\n",
    "# same meaning of prefixes for muon neutrinos as for muons\n",
    "numu_conv = (mceq_run.get_solution('conv_numu', mag)\n",
    "             + mceq_run.get_solution('conv_antinumu', mag))\n",
    "\n",
    "numu_pr = (mceq_run.get_solution('pr_numu', mag)\n",
    "           + mceq_run.get_solution('pr_antinumu', mag))\n",
    "\n",
    "numu_total = (mceq_run.get_solution('total_numu', mag)\n",
    "              + mceq_run.get_solution('total_antinumu', mag))\n",
    "\n",
    "numu_ratio = (mceq_run.get_solution('total_numu', mag)\n",
    "              / mceq_run.get_solution('total_antinumu', mag))\n",
    "\n",
    "# same meaning of prefixes for electron neutrinos as for muons\n",
    "nue_conv = (mceq_run.get_solution('conv_nue', mag)\n",
    "            + mceq_run.get_solution('conv_antinue', mag))\n",
    "\n",
    "nue_pr = (mceq_run.get_solution('pr_nue', mag)\n",
    "          + mceq_run.get_solution('pr_antinue', mag))\n",
    "\n",
    "nue_total = (mceq_run.get_solution('total_nue', mag)\n",
    "             + mceq_run.get_solution('total_antinue', mag))\n",
    "\n",
    "nue_ratio = (mceq_run.get_solution('total_nue', mag)\n",
    "             / mceq_run.get_solution('total_antinue', mag))\n",
    "\n",
    "\n",
    "\n",
    "# since there are no conventional tau neutrinos, prompt=total\n",
    "nutau_total = (mceq_run.get_solution('total_nutau', mag)\n",
    "            + mceq_run.get_solution('total_antinutau', mag))\n",
    "nutau_pr = (mceq_run.get_solution('pr_nutau', mag)\n",
    "            + mceq_run.get_solution('pr_antinutau', mag))"
   ]
  },
  {
   "cell_type": "markdown",
   "metadata": {},
   "source": [
    "Plot using matplotlib\n",
    "----------------------"
   ]
  },
  {
   "cell_type": "code",
   "execution_count": null,
   "metadata": {},
   "outputs": [],
   "source": [
    "# for pref, lab in [('numu_',r'\\nu_\\mu'), ('nue_',r'\\nu_e')]:\n",
    "\n",
    "#Muons\n",
    "plt.figure(figsize=(4.2, 3))\n",
    "plt.loglog(e_grid, mu_total, color='k', ls='-', lw=1.5)\n",
    "plt.loglog(e_grid, mu_conv, ls='-.', lw=1.5,\n",
    "           label=r'conventional $\\mu$')\n",
    "plt.loglog(e_grid, mu_pr, ls='--', lw=1.5, \n",
    "           label=r'prompt $\\mu$')\n",
    "plt.xlim(10,1e7)\n",
    "plt.ylim(1e-5,10)\n",
    "plt.xlabel(r\"$E_{\\mu}$ [GeV]\")\n",
    "plt.ylabel(r\"$\\Phi_{\\mu}$ (E/GeV)$^{\" + str(mag) +\" }$\" + \n",
    "           \"(cm$^{2}$ s sr GeV)$^{-1}$\")\n",
    "plt.legend(loc='upper right',frameon=False,numpoints=1,fontsize='medium')\n",
    "plt.tight_layout()\n",
    "\n",
    "#To save the plot use\n",
    "# plt.savefig('H3a_60_sib23c_whatever.pdf')\n",
    "\n",
    "#Muon neutrinos\n",
    "plt.figure(figsize=(4.2, 3))\n",
    "plt.loglog(e_grid, numu_total, color='k', ls='-', lw=1.5)\n",
    "plt.loglog(e_grid, numu_conv, ls='-.', lw=1.5,\n",
    "           label=r'conventional $\\nu_\\mu$')\n",
    "plt.loglog(e_grid, numu_pr, ls='--', lw=1.5, \n",
    "           label=r'prompt $\\nu_\\mu$')\n",
    "plt.xlim(10,1e7)\n",
    "plt.ylim(1e-5,10)\n",
    "plt.xlabel(r\"$E_{\\nu_\\mu}$ [GeV]\")\n",
    "plt.ylabel(r\"$\\Phi_{\\nu_\\mu}$ (E/GeV)$^{\" + str(mag) +\" }$\" + \n",
    "           \"(cm$^{2}$ s sr GeV)$^{-1}$\")\n",
    "plt.legend(loc='upper right',frameon=False,numpoints=1,fontsize='medium')\n",
    "plt.tight_layout()\n",
    "\n",
    "#Electron neutrinos\n",
    "plt.figure(figsize=(4.2, 3))\n",
    "plt.loglog(e_grid, nue_total, color='k', ls='-', lw=1.5)\n",
    "plt.loglog(e_grid, nue_conv, ls='-.', lw=1.5,\n",
    "           label=r'conventional $\\nu_e$')\n",
    "plt.loglog(e_grid, nue_pr, ls='--', lw=1.5, \n",
    "           label=r'prompt $\\nu_e$')\n",
    "plt.xlim(10,1e7)\n",
    "plt.ylim(1e-5,10)\n",
    "plt.xlabel(r\"$E_{\\nu_e}$ [GeV]\")\n",
    "plt.ylabel(r\"$\\Phi_{\\nu_e}$ (E/GeV)$^{\" + str(mag) +\" }$\" + \n",
    "           \"(cm$^{2}$ s sr GeV)$^{-1}$\")\n",
    "plt.legend(loc='upper right',frameon=False,numpoints=1,fontsize='medium')\n",
    "plt.tight_layout()\n",
    "\n",
    "#Tau neutrinos\n",
    "plt.figure(figsize=(4.2, 3))\n",
    "plt.loglog(e_grid, nutau_total, color='k', ls='-', lw=1.5)\n",
    "plt.loglog(e_grid, nutau_pr, ls='--', lw=1.5, \n",
    "           label=r'prompt $\\nu_\\tau$')\n",
    "plt.xlim(10,1e7)\n",
    "plt.ylim(1e-7,1e-2)\n",
    "plt.xlabel(r\"$E_{\\nu_\\tau}$ [GeV]\")\n",
    "plt.ylabel(r\"$\\Phi_{\\nu_\\tau}$ (E/GeV)$^{\" + str(mag) +\" }$\" + \n",
    "           \"(cm$^{2}$ s sr GeV)$^{-1}$\")\n",
    "plt.legend(loc='upper right',frameon=False,numpoints=1,fontsize='medium')\n",
    "plt.tight_layout()\n",
    "\n",
    "#Muons\n",
    "plt.figure(figsize=(4.2, 3))\n",
    "plt.semilogx(e_grid, mu_charge, color='k', ls='-', lw=1.5, label=r'$\\mu^+/\\mu^-$')\n",
    "plt.semilogx(e_grid, numu_ratio, color='r', ls='-', lw=1.5, label=r'$\\nu_\\mu/\\bar{\\nu}_\\mu$')\n",
    "plt.semilogx(e_grid, nue_ratio, color='b', ls='-', lw=1.5, label=r'$\\nu_e/\\bar{\\nu}_e$')\n",
    "# plt.semilogx(e_grid, 0.1*numu_total/nue_total, color='cyan', ls='-', \n",
    "#              lw=1.5, label=r'$0.1 \\cdot \\nu_\\mu/\\nu_e$')\n",
    "plt.xlim(10,1e7)\n",
    "plt.ylim(1,2)\n",
    "plt.xlabel(r\"$E_{\\rm lepton}$ [GeV]\")\n",
    "plt.ylabel(r\"Flux ratios\")\n",
    "plt.legend(loc='upper left',frameon=False,numpoints=1,fontsize='medium')\n",
    "plt.tight_layout()"
   ]
  },
  {
   "cell_type": "markdown",
   "metadata": {},
   "source": [
    "Save as in ASCII file for other types of processing\n",
    "-----------------------------------------------------\n",
    "\n",
    "The block below will save the results in an ASCII file for further processing."
   ]
  },
  {
   "cell_type": "code",
   "execution_count": 18,
   "metadata": {
    "collapsed": true
   },
   "outputs": [],
   "source": [
    "np.savetxt(open('H3a_theta_60_sib23c.txt','w'),\n",
    "zip(e_grid, \n",
    "    mu_conv,mu_pr,mu_total,\n",
    "    numu_conv,numu_pr,numu_total,\n",
    "    nue_conv,nue_pr,nue_total,\n",
    "    nutau_pr),\n",
    "fmt='%6.5E',\n",
    "header=('lepton flux scaled with E**{0}. Order (E, mu_conv, mu_pr, mu_total, ' +\n",
    "        'numu_conv, numu_pr, numu_total, nue_conv, nue_pr, nue_total, ' +\n",
    "        'nutau_pr').format(mag)\n",
    ")"
   ]
  },
  {
   "cell_type": "code",
   "execution_count": null,
   "metadata": {
    "collapsed": true
   },
   "outputs": [],
   "source": []
  }
 ],
 "metadata": {
  "kernelspec": {
   "display_name": "Python 2",
   "language": "python",
   "name": "python2"
  },
  "language_info": {
   "codemirror_mode": {
    "name": "ipython",
    "version": 2
   },
   "file_extension": ".py",
   "mimetype": "text/x-python",
   "name": "python",
   "nbconvert_exporter": "python",
   "pygments_lexer": "ipython2",
   "version": "2.7.16"
  }
 },
 "nbformat": 4,
 "nbformat_minor": 2
}
