{
 "cells": [
  {
   "cell_type": "markdown",
   "metadata": {},
   "source": [
    "Modifying KPi-ratio\n",
    "-------------------"
   ]
  },
  {
   "cell_type": "code",
   "execution_count": 1,
   "metadata": {
    "collapsed": true
   },
   "outputs": [],
   "source": [
    "#basic imports and jupyter setup\n",
    "%load_ext autoreload\n",
    "%matplotlib inline\n",
    "%autoreload 2\n",
    "import os\n",
    "import matplotlib.pyplot as plt\n",
    "import numpy as np\n",
    "os.chdir('..')\n",
    "\n",
    "#import solver related modules\n",
    "from MCEq.core import MCEqRun\n",
    "from mceq_config import config\n",
    "#import primary model choices\n",
    "import crflux.models as pm"
   ]
  },
  {
   "cell_type": "code",
   "execution_count": 2,
   "metadata": {},
   "outputs": [],
   "source": [
    "config[\"debug_level\"] = 2\n",
    "config[\"enable_em\"] = False\n",
    "config['enable_em_ion'] = False\n",
    "config['enable_muon_energy_loss'] = True\n",
    "config['muon_helicity_dependence'] = True\n",
    "config['average_loss_operator'] = True\n",
    "config['e_min'] = 1.\n",
    "config['e_max'] = 1.1e11\n",
    "config[\"kernel_config\"] = 'CUDA'\n",
    "config[\"cuda_gpu_id\"] = 0"
   ]
  },
  {
   "cell_type": "code",
   "execution_count": 3,
   "metadata": {},
   "outputs": [
    {
     "name": "stdout",
     "output_type": "stream",
     "text": [
      "MCEqRun::set_interaction_model(): DPMJETIII191\n",
      "ParticleManager::_init_default_tracking(): Initializing default tracking categories (pi, K, mu)\n",
      "MCEqRun::set_density_model(): Setting density profile to CORSIKA ('BK_USStd', None)\n",
      "MCEqRun::set_primary_model(): GlobalSplineFitBeta data/GSF_spline_20171007.pkl.bz2\n"
     ]
    }
   ],
   "source": [
    "mceq = MCEqRun(\n",
    "#provide the string of the interaction model\n",
    "interaction_model='DPMJETIII191',\n",
    "#primary cosmic ray flux model\n",
    "#support a tuple (primary model class (not instance!), arguments)\n",
    "primary_model = (pm.GlobalSplineFitBeta, \n",
    "    os.path.join('data','GSF_spline_20171007.pkl.bz2')) ,\n",
    "# Zenith angle in degrees. 0=vertical, 90=horizontal\n",
    "theta_deg=0.0,\n",
    "#density model\n",
    "**config\n",
    ")"
   ]
  },
  {
   "cell_type": "markdown",
   "metadata": {},
   "source": [
    "__________\n",
    "\n",
    "If everything succeeds than the last message should be something like\n",
    "\n",
    "`MCEqRun::set_primary_model():  HillasGaisser2012 H3a`.\n",
    "\n",
    "The spline interpolating the depth-density relation of an atmosphere will be caluclated and cached during the first run.\n",
    "\n",
    "Define variables and angles\n",
    "-------------------------"
   ]
  },
  {
   "cell_type": "code",
   "execution_count": 4,
   "metadata": {
    "collapsed": true
   },
   "outputs": [],
   "source": [
    "#Power of energy to scale the flux\n",
    "mag = 3\n",
    "\n",
    "#obtain energy grid (fixed) of the solution for the x-axis of the plots\n",
    "e_grid = mceq.e_grid\n",
    "\n",
    "#Dictionary for results\n",
    "flux = {}\n",
    "\n",
    "cos_theta = np.array([1., 0.5, 0.])\n",
    "angles = np.rad2deg(np.arccos(cos_theta))\n",
    "# Weight function for modification of pion and kaon distributions\n",
    "def weight_fun(xmat, egrid, pname, value):\n",
    "    return (1 + value)*np.ones_like(xmat)\n"
   ]
  },
  {
   "cell_type": "markdown",
   "metadata": {},
   "source": [
    "Compute spectrum for each zenith angle and two seasons\n",
    "---------------------------------------------------------\n",
    "\n",
    "For each zenith angle compute the whole spectrum. When plotting pick just one energy bin to plot the zenith distribution for leptons of fixed energy."
   ]
  },
  {
   "cell_type": "code",
   "execution_count": 5,
   "metadata": {},
   "outputs": [
    {
     "name": "stdout",
     "output_type": "stream",
     "text": [
      "MCEqRun::set_density_model(): Setting density profile to MSIS00_IC ('SouthPole', 'January')\n",
      "MSIS00IceCubeCentered::set_theta(): latitude = -90.00 for zenith angle =  0.00\n",
      "MCEqRun::set_primary_model(): GlobalSplineFitBeta data/GSF_spline_20171007.pkl.bz2\n"
     ]
    }
   ],
   "source": [
    "mceq.set_density_model(('MSIS00_IC',('SouthPole','January')))\n",
    "mceq.set_primary_model(pm.GlobalSplineFitBeta, \n",
    "                           os.path.join('data','GSF_spline_20171007.pkl.bz2'))"
   ]
  },
  {
   "cell_type": "code",
   "execution_count": 6,
   "metadata": {},
   "outputs": [],
   "source": [
    "def compute_fluxes():\n",
    "\n",
    "    from collections import defaultdict\n",
    "    flux = defaultdict(lambda : [])\n",
    "\n",
    "    #Sum fluxes, calculated for different angles\n",
    "    for theta in angles:\n",
    "        mceq.set_theta_deg(theta)\n",
    "        mceq.solve()\n",
    "        #_conv means conventional (mostly pions and kaons)\n",
    "        flux['numu_pi'].append(mceq.get_solution('pi_numu', mag)\n",
    "                              + mceq.get_solution('pi_antinumu', mag))\n",
    "        flux['numu_k'].append(mceq.get_solution('k_numu', mag)\n",
    "                              + mceq.get_solution('k_numu', mag)\n",
    "                              + mceq.get_solution('K0_numu', mag)\n",
    "                              + mceq.get_solution('K0_antinumu', mag))\n",
    "        flux['numu_pr'].append(mceq.get_solution('pr_numu', mag)\n",
    "                               + mceq.get_solution('pr_antinumu', mag))\n",
    "        flux['numu_mu'].append(mceq.get_solution('mu_numu', mag)\n",
    "                               + mceq.get_solution('mu_antinumu', mag))\n",
    "\n",
    "        flux['nue_pi'].append(mceq.get_solution('pi_nue', mag)\n",
    "                              + mceq.get_solution('pi_antinue', mag))\n",
    "        flux['nue_k'].append(mceq.get_solution('k_nue', mag)\n",
    "                              + mceq.get_solution('k_nue', mag)\n",
    "                              + mceq.get_solution('K0_nue', mag)\n",
    "                              + mceq.get_solution('K0_antinue', mag))\n",
    "        flux['nue_pr'].append(mceq.get_solution('pr_nue', mag)\n",
    "                               + mceq.get_solution('pr_antinue', mag))\n",
    "        flux['nue_total'].append(mceq.get_solution('total_nue', mag)\n",
    "                             + mceq.get_solution('total_antinue', mag))\n",
    "        flux['nue_mu'].append(mceq.get_solution('mu_nue', mag)\n",
    "                               + mceq.get_solution('mu_antinue', mag))\n",
    "        flux['numu_total'].append(mceq.get_solution('total_numu', mag)\n",
    "                              + mceq.get_solution('total_antinumu', mag))\n",
    "    return dict(flux)"
   ]
  },
  {
   "cell_type": "code",
   "execution_count": 7,
   "metadata": {},
   "outputs": [
    {
     "name": "stdout",
     "output_type": "stream",
     "text": [
      "MCEqRun::unset_mod_pprod(): Particle production modifications reset to defaults.\n",
      "MSIS00IceCubeCentered::set_theta(): latitude = -89.97 for zenith angle = 60.00\n",
      "MSIS00IceCubeCentered::set_theta(): latitude = -88.59 for zenith angle = 90.00\n",
      "MCEqRun::set_mod_pprod(): 2212/211, weight_fun, ('a', 0.5)\n",
      "MCEqRun::set_mod_pprod(): 2212/-211, weight_fun, ('a', 0.5)\n",
      "MSIS00IceCubeCentered::set_theta(): latitude = -90.00 for zenith angle =  0.00\n",
      "MSIS00IceCubeCentered::set_theta(): latitude = -89.97 for zenith angle = 60.00\n",
      "MSIS00IceCubeCentered::set_theta(): latitude = -88.59 for zenith angle = 90.00\n",
      "MCEqRun::unset_mod_pprod(): Particle production modifications reset to defaults.\n",
      "MCEqRun::set_mod_pprod(): 2212/321, weight_fun, ('a', -0.3)\n",
      "MCEqRun::set_mod_pprod(): 2212/-321, weight_fun, ('a', -0.3)\n",
      "MSIS00IceCubeCentered::set_theta(): latitude = -90.00 for zenith angle =  0.00\n",
      "MSIS00IceCubeCentered::set_theta(): latitude = -89.97 for zenith angle = 60.00\n",
      "MSIS00IceCubeCentered::set_theta(): latitude = -88.59 for zenith angle = 90.00\n",
      "MCEqRun::unset_mod_pprod(): Particle production modifications reset to defaults.\n"
     ]
    }
   ],
   "source": [
    "mceq.unset_mod_pprod()\n",
    "mceq.matrix_builder.construct_matrices(skip_decay_matrix=True)\n",
    "nominal = compute_fluxes()\n",
    "\n",
    "mceq.set_mod_pprod(2212,211,weight_fun, ('a', 0.5))\n",
    "mceq.set_mod_pprod(2212,-211,weight_fun, ('a', 0.5))\n",
    "mceq.regenerate_matrices(skip_decay_matrix=True)\n",
    "piup = compute_fluxes()\n",
    "mceq.unset_mod_pprod()\n",
    "\n",
    "mceq.set_mod_pprod(2212,321,weight_fun, ('a', -0.30))\n",
    "mceq.set_mod_pprod(2212,-321,weight_fun, ('a', -0.30))\n",
    "mceq.regenerate_matrices(skip_decay_matrix=True)\n",
    "kdown = compute_fluxes()\n",
    "mceq.unset_mod_pprod()"
   ]
  },
  {
   "cell_type": "code",
   "execution_count": 9,
   "metadata": {},
   "outputs": [
    {
     "data": {
      "image/png": "[encoded data removed]",
      "text/plain": [
       "<Figure size 504x237.6 with 2 Axes>"
      ]
     },
     "metadata": {
      "needs_background": "light"
     },
     "output_type": "display_data"
    }
   ],
   "source": [
    "fig, axes = plt.subplots(1,2,figsize=(7,3.3), sharex=True, sharey=True)\n",
    "show_correction = False\n",
    "c = axes[0].loglog(e_grid, nominal['numu_total'][1],c='k')[0].get_color()\n",
    "axes[0].loglog(e_grid, nominal['numu_pi'][1],c=c,ls='--')\n",
    "axes[0].loglog(e_grid, nominal['numu_k'][1],c=c,ls='-.')\n",
    "axes[0].loglog(e_grid, nominal['numu_mu'][1],c=c,ls=':')\n",
    "if show_correction:\n",
    "    c = axes[0].loglog(e_grid, kdown['numu_total'][1],c='r')[0].get_color()\n",
    "    axes[0].loglog(e_grid, kdown['numu_pi'][1],c=c,ls='--')\n",
    "    axes[0].loglog(e_grid, kdown['numu_k'][1],c=c,ls='-.')\n",
    "    axes[0].loglog(e_grid, kdown['numu_mu'][1],c=c,ls=':')\n",
    "axes[0].set_xlim(1.,1500)\n",
    "axes[0].set_ylim(5e-4,2e-1)\n",
    "c = axes[1].loglog(e_grid, nominal['nue_total'][1],c='k')[0].get_color()\n",
    "axes[1].loglog(e_grid, nominal['nue_pi'][1],c=c,ls='--')\n",
    "axes[1].loglog(e_grid, nominal['nue_k'][1],c=c,ls='-.')\n",
    "axes[1].loglog(e_grid, nominal['nue_mu'][1],c=c,ls=':')\n",
    "if show_correction:\n",
    "    c = axes[1].loglog(e_grid, kdown['nue_total'][1],c='r')[0].get_color()\n",
    "    axes[1].loglog(e_grid, kdown['nue_pi'][1],c=c,ls='--')\n",
    "    axes[1].loglog(e_grid, kdown['nue_k'][1],c=c,ls='-.')\n",
    "    axes[1].loglog(e_grid, kdown['nue_mu'][1],c=c,ls=':')\n",
    "axes[1].set_xlim(1.,1500)\n",
    "axes[1].set_ylim(5e-4,9e-2)\n",
    "axes[0].set_xlabel('Muon neutrino energy $E$ (GeV)',fontsize='large')\n",
    "axes[1].set_xlabel('Electron neutrino energy $E$ (GeV)',fontsize='large')\n",
    "axes[0].set_ylabel(r\"$E^3\\,\\Phi$ (GeV$^{-2}\\,$s$\\,$cm$^{2}\\,$sr$)^{-1}$\",\n",
    "                   fontsize='large')\n",
    "\n",
    "[tick.label.set_fontsize(11) for tick in axes[0].xaxis.get_major_ticks() ]\n",
    "[tick.label.set_fontsize(11) for tick in axes[1].xaxis.get_major_ticks() ]\n",
    "[tick.label.set_fontsize(11) for tick in axes[0].yaxis.get_major_ticks() ]\n",
    "[tick.label.set_fontsize(11) for tick in axes[1].yaxis.get_major_ticks() ]\n",
    "        \n",
    "    \n",
    "axes[0].text(0.75,0.9,r'$\\nu_\\mu$ + $\\bar{\\nu}_\\mu$',\n",
    "             transform=axes[0].transAxes, fontsize='large')\n",
    "axes[1].text(0.75,0.9,r'$\\nu_{\\rm e}$ + $\\bar{\\nu}_{\\rm e}$',\n",
    "             transform=axes[1].transAxes, fontsize='large')\n",
    "# Make legend for interaction models\n",
    "figleg_lines,figleg_labels = [], []\n",
    "for m, ls in zip(['total', r'from $\\pi^\\pm$', r'from $K^{\\pm,0}$', r'from $\\mu^\\pm$'],\n",
    "                 ['-','--','-.',':']):\n",
    "    figleg_lines.append(plt.plot([0,0],[0,0],ls=ls,color='k')[0])\n",
    "    figleg_labels.append(m)\n",
    "plt.figlegend(figleg_lines,figleg_labels,\n",
    "              loc='upper center',mode='expand',ncol=4,frameon=True, fontsize='large')\n",
    "plt.tight_layout(rect=[0.0,0.,1.,.9], w_pad=0.0, h_pad=0.5, )\n",
    "plt.savefig('flux_components.pdf',dpi=300)"
   ]
  },
  {
   "cell_type": "code",
   "execution_count": null,
   "metadata": {},
   "outputs": [],
   "source": []
  }
 ],
 "metadata": {
  "kernelspec": {
   "display_name": "Python 2",
   "language": "python",
   "name": "python2"
  },
  "language_info": {
   "codemirror_mode": {
    "name": "ipython",
    "version": 2
   },
   "file_extension": ".py",
   "mimetype": "text/x-python",
   "name": "python",
   "nbconvert_exporter": "python",
   "pygments_lexer": "ipython2",
   "version": "2.7.16"
  }
 },
 "nbformat": 4,
 "nbformat_minor": 2
}
